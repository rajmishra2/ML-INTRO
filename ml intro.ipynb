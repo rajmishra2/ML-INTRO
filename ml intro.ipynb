{
 "cells": [
  {
   "cell_type": "markdown",
   "id": "45035416-de7c-4d68-8f69-ef39f5803612",
   "metadata": {},
   "source": [
    "QD- Explain the following with the example\n",
    "1-Artificial Intelligence\n",
    "smart application that can perform its own task without human inteferences\n",
    "eg-robot\n",
    "\n",
    "2-machine learning\n",
    "provides stats tools to analyze, visualize and to predict the module\n",
    "eg-recomendation system\n",
    "\n",
    "3-deep learning\n",
    "to mimic the human brain and it is used multilayered neural netwrok\n",
    "eg-face detection\n",
    "\n"
   ]
  },
  {
   "cell_type": "markdown",
   "id": "3afd58cf-7499-4ebc-935a-f6bacf37c10d",
   "metadata": {},
   "source": [
    "Q2- What is supervised  learening with example\n",
    "\n",
    "in this we already know the output according to dataset\n",
    "eg-students class exams results"
   ]
  },
  {
   "cell_type": "markdown",
   "id": "8c415d07-6e79-458a-9cb8-1097556b7093",
   "metadata": {},
   "source": [
    "3-what is unsupevised learnig with example\n",
    " in this we do not know output therefoere we create clusters to relate the data\n",
    " eg-sales"
   ]
  },
  {
   "cell_type": "markdown",
   "id": "8f9b22e7-eea3-45a9-9a59-d1ec5bfcd03a",
   "metadata": {},
   "source": [
    "Q4- What is thK difference between AI, ML, DL, and DS?\n",
    "\n",
    "AI simulates human intelligence to perform tasks and make decisions. ML is a subset of AI that uses algorithms to learn patterns from data. DL is a subset of ML that employs artificial neural networks for complex tasks. AI may or may not require large datasets; it can use predefined rule"
   ]
  },
  {
   "cell_type": "markdown",
   "id": "8825de2c-53a7-492c-a310-69779a6db3df",
   "metadata": {},
   "source": [
    "Q5- Q5- What are the main differencs between supervised, unsupervised, and semi-supervised learnin*?\n",
    "Supervised learning is a problem with labeled data, expecting to develop predictive capability. Unsupervised learning is discovering process, diving into unlabeled data to capture hidden information. Semi-supervised learning is a blend of supervised and unsupervised learning\n"
   ]
  },
  {
   "cell_type": "markdown",
   "id": "aff2ae45-2286-4579-9874-8007f900c38f",
   "metadata": {},
   "source": [
    "Q6- What is train, test and validation split? Explain the importance of each term.\n",
    "t is best practice in machine learning to split our data into the following three groups: Training Set: For training of the model. Validation Set: For unbiased evaluation of the model. Test Set: For final evaluation of the model."
   ]
  },
  {
   "cell_type": "markdown",
   "id": "58d0787f-2295-41ef-8aad-6d8485bc522e",
   "metadata": {},
   "source": [
    "Q7- How can unsupevised learnin* be used in anomaly detection?\n",
    "Anomaly detection techniques of unsupervised nature assume that normal data points occur considerably more frequently than anomalous data points. This assumption is used to classify data points that occur less frequently as anomalies. Unsupervised techniques assign each data point a score instead of a label."
   ]
  },
  {
   "cell_type": "code",
   "execution_count": null,
   "id": "36259919-8081-45c6-add9-3f0df40d42e9",
   "metadata": {},
   "outputs": [],
   "source": [
    "Q8- List down some commonly used supervised learning algorithms and unsupervised learnine\n",
    "algorithms."
   ]
  }
 ],
 "metadata": {
  "kernelspec": {
   "display_name": "Python 3 (ipykernel)",
   "language": "python",
   "name": "python3"
  },
  "language_info": {
   "codemirror_mode": {
    "name": "ipython",
    "version": 3
   },
   "file_extension": ".py",
   "mimetype": "text/x-python",
   "name": "python",
   "nbconvert_exporter": "python",
   "pygments_lexer": "ipython3",
   "version": "3.10.8"
  }
 },
 "nbformat": 4,
 "nbformat_minor": 5
}
